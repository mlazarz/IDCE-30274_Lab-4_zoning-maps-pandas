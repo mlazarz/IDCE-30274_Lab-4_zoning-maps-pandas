{
  "nbformat": 4,
  "nbformat_minor": 0,
  "metadata": {
    "colab": {
      "name": "CompProgLab4.ipynb",
      "provenance": [],
      "collapsed_sections": [],
      "authorship_tag": "ABX9TyNKGBXpJbtGh+sEPHX/exq9",
      "include_colab_link": true
    },
    "kernelspec": {
      "name": "python3",
      "display_name": "Python 3"
    }
  },
  "cells": [
    {
      "cell_type": "markdown",
      "metadata": {
        "id": "view-in-github",
        "colab_type": "text"
      },
      "source": [
        "<a href=\"https://colab.research.google.com/github/IDCE-MSGIS/lab-4-zoning-maps-pandas-mlazarz/blob/main/CompProgLab4.ipynb\" target=\"_parent\"><img src=\"https://colab.research.google.com/assets/colab-badge.svg\" alt=\"Open In Colab\"/></a>"
      ]
    },
    {
      "cell_type": "code",
      "metadata": {
        "id": "tr0yIx2mO7Xr",
        "outputId": "68c6a032-f1fb-4140-d25c-797806519c1e",
        "colab": {
          "base_uri": "https://localhost:8080/"
        }
      },
      "source": [
        "'''\n",
        "Author:  Mitchell Lazarz\n",
        "Version:  Python 3--Jupytor Notebooks\n",
        "Creation Date:  12 November 2020\n",
        "Description:  This script uses geopanda, spatialindex, shapely, and rtree modules \n",
        "to merge a shapefile of Public Urban Developments (PUDs) in Washington D.C. with .csv tables \n",
        "of affordable housing locations and zoning classifications.  The shapefile and affordable\n",
        "housing table are converted to geodataframes, joined, then merged with the zoning\n",
        "classification table.  A map of PUDs showing zoning classification and a map of PUDs\n",
        "that support affordable housing are displayed.  The merged geodataframe is then exported\n",
        "as a shapefile to a personal Google Drive folder.\n",
        "'''\n",
        "\n",
        "\n",
        "# Add GIS packages geopandas, spatialindex, and rtree to the Google Colab environment\n",
        "!pip install geopandas\n",
        "!apt-get install -y libspatialindex-dev # spatialindex supports geopandas operations\n",
        "!pip install rtree # rtree supports geopandas operations\n",
        "\n",
        "# Import packages\n",
        "import pandas as pd  # pandas is imported as pd to provide interface for interacting with tabular data\n",
        "import geopandas as gpd  # geopandas is imported as gpd which combines the capabilities of pandas and shapely for geospatial operations\n",
        "from shapely.geometry import Point, Polygon, MultiPolygon  # shapely.geometry is imported to convert text data into points, lines, and polygons\n",
        "from shapely import wkt  # wkt, \"well known text\", component is imported from shapely which allows for interchange across GIS programs\n",
        "import rtree  # rtree is imported which supports geospatial joining"
      ],
      "execution_count": 2,
      "outputs": [
        {
          "output_type": "stream",
          "text": [
            "Collecting geopandas\n",
            "\u001b[?25l  Downloading https://files.pythonhosted.org/packages/f7/a4/e66aafbefcbb717813bf3a355c8c4fc3ed04ea1dd7feb2920f2f4f868921/geopandas-0.8.1-py2.py3-none-any.whl (962kB)\n",
            "\u001b[K     |████████████████████████████████| 972kB 12.2MB/s \n",
            "\u001b[?25hCollecting pyproj>=2.2.0\n",
            "\u001b[?25l  Downloading https://files.pythonhosted.org/packages/e4/ab/280e80a67cfc109d15428c0ec56391fc03a65857b7727cf4e6e6f99a4204/pyproj-3.0.0.post1-cp36-cp36m-manylinux2010_x86_64.whl (6.4MB)\n",
            "\u001b[K     |████████████████████████████████| 6.5MB 30.5MB/s \n",
            "\u001b[?25hRequirement already satisfied: shapely in /usr/local/lib/python3.6/dist-packages (from geopandas) (1.7.1)\n",
            "Collecting fiona\n",
            "\u001b[?25l  Downloading https://files.pythonhosted.org/packages/36/8b/e8b2c11bed5373c8e98edb85ce891b09aa1f4210fd451d0fb3696b7695a2/Fiona-1.8.17-cp36-cp36m-manylinux1_x86_64.whl (14.8MB)\n",
            "\u001b[K     |████████████████████████████████| 14.8MB 325kB/s \n",
            "\u001b[?25hRequirement already satisfied: pandas>=0.23.0 in /usr/local/lib/python3.6/dist-packages (from geopandas) (1.1.4)\n",
            "Requirement already satisfied: certifi in /usr/local/lib/python3.6/dist-packages (from pyproj>=2.2.0->geopandas) (2020.6.20)\n",
            "Collecting munch\n",
            "  Downloading https://files.pythonhosted.org/packages/cc/ab/85d8da5c9a45e072301beb37ad7f833cd344e04c817d97e0cc75681d248f/munch-2.5.0-py2.py3-none-any.whl\n",
            "Collecting cligj>=0.5\n",
            "  Downloading https://files.pythonhosted.org/packages/ba/06/e3440b1f2dc802d35f329f299ba96153e9fcbfdef75e17f4b61f79430c6a/cligj-0.7.0-py3-none-any.whl\n",
            "Requirement already satisfied: click<8,>=4.0 in /usr/local/lib/python3.6/dist-packages (from fiona->geopandas) (7.1.2)\n",
            "Requirement already satisfied: six>=1.7 in /usr/local/lib/python3.6/dist-packages (from fiona->geopandas) (1.15.0)\n",
            "Requirement already satisfied: attrs>=17 in /usr/local/lib/python3.6/dist-packages (from fiona->geopandas) (20.2.0)\n",
            "Collecting click-plugins>=1.0\n",
            "  Downloading https://files.pythonhosted.org/packages/e9/da/824b92d9942f4e472702488857914bdd50f73021efea15b4cad9aca8ecef/click_plugins-1.1.1-py2.py3-none-any.whl\n",
            "Requirement already satisfied: pytz>=2017.2 in /usr/local/lib/python3.6/dist-packages (from pandas>=0.23.0->geopandas) (2018.9)\n",
            "Requirement already satisfied: numpy>=1.15.4 in /usr/local/lib/python3.6/dist-packages (from pandas>=0.23.0->geopandas) (1.18.5)\n",
            "Requirement already satisfied: python-dateutil>=2.7.3 in /usr/local/lib/python3.6/dist-packages (from pandas>=0.23.0->geopandas) (2.8.1)\n",
            "Installing collected packages: pyproj, munch, cligj, click-plugins, fiona, geopandas\n",
            "Successfully installed click-plugins-1.1.1 cligj-0.7.0 fiona-1.8.17 geopandas-0.8.1 munch-2.5.0 pyproj-3.0.0.post1\n",
            "Reading package lists... Done\n",
            "Building dependency tree       \n",
            "Reading state information... Done\n",
            "The following additional packages will be installed:\n",
            "  libspatialindex-c4v5 libspatialindex4v5\n",
            "The following NEW packages will be installed:\n",
            "  libspatialindex-c4v5 libspatialindex-dev libspatialindex4v5\n",
            "0 upgraded, 3 newly installed, 0 to remove and 12 not upgraded.\n",
            "Need to get 555 kB of archives.\n",
            "After this operation, 3,308 kB of additional disk space will be used.\n",
            "Get:1 http://archive.ubuntu.com/ubuntu bionic/universe amd64 libspatialindex4v5 amd64 1.8.5-5 [219 kB]\n",
            "Get:2 http://archive.ubuntu.com/ubuntu bionic/universe amd64 libspatialindex-c4v5 amd64 1.8.5-5 [51.7 kB]\n",
            "Get:3 http://archive.ubuntu.com/ubuntu bionic/universe amd64 libspatialindex-dev amd64 1.8.5-5 [285 kB]\n",
            "Fetched 555 kB in 0s (5,593 kB/s)\n",
            "Selecting previously unselected package libspatialindex4v5:amd64.\n",
            "(Reading database ... 144786 files and directories currently installed.)\n",
            "Preparing to unpack .../libspatialindex4v5_1.8.5-5_amd64.deb ...\n",
            "Unpacking libspatialindex4v5:amd64 (1.8.5-5) ...\n",
            "Selecting previously unselected package libspatialindex-c4v5:amd64.\n",
            "Preparing to unpack .../libspatialindex-c4v5_1.8.5-5_amd64.deb ...\n",
            "Unpacking libspatialindex-c4v5:amd64 (1.8.5-5) ...\n",
            "Selecting previously unselected package libspatialindex-dev:amd64.\n",
            "Preparing to unpack .../libspatialindex-dev_1.8.5-5_amd64.deb ...\n",
            "Unpacking libspatialindex-dev:amd64 (1.8.5-5) ...\n",
            "Setting up libspatialindex4v5:amd64 (1.8.5-5) ...\n",
            "Setting up libspatialindex-c4v5:amd64 (1.8.5-5) ...\n",
            "Setting up libspatialindex-dev:amd64 (1.8.5-5) ...\n",
            "Processing triggers for libc-bin (2.27-3ubuntu1.2) ...\n",
            "/sbin/ldconfig.real: /usr/local/lib/python3.6/dist-packages/ideep4py/lib/libmkldnn.so.0 is not a symbolic link\n",
            "\n",
            "Collecting rtree\n",
            "\u001b[?25l  Downloading https://files.pythonhosted.org/packages/56/6f/f1e91001d5ad9fa9bed65875152f5a1c7955c5763168cae309546e6e9fda/Rtree-0.9.4.tar.gz (62kB)\n",
            "\u001b[K     |████████████████████████████████| 71kB 6.4MB/s \n",
            "\u001b[?25hRequirement already satisfied: setuptools in /usr/local/lib/python3.6/dist-packages (from rtree) (50.3.2)\n",
            "Building wheels for collected packages: rtree\n",
            "  Building wheel for rtree (setup.py) ... \u001b[?25l\u001b[?25hdone\n",
            "  Created wheel for rtree: filename=Rtree-0.9.4-cp36-none-any.whl size=21768 sha256=d1fe1e7de0c981e4137cdf0757a4ab9e8279156079b08032e25075bb00ef9051\n",
            "  Stored in directory: /root/.cache/pip/wheels/ff/20/c5/0004ef7acb96745ec99be960053902b0b414a2aa2dcad5834e\n",
            "Successfully built rtree\n",
            "Installing collected packages: rtree\n",
            "Successfully installed rtree-0.9.4\n"
          ],
          "name": "stdout"
        }
      ]
    },
    {
      "cell_type": "code",
      "metadata": {
        "id": "9m7aCl98PXZ-",
        "outputId": "252908c0-9d7c-49b9-c5b9-d679d12e4dae",
        "colab": {
          "base_uri": "https://localhost:8080/"
        }
      },
      "source": [
        "# Google Colab is connected to Google Drive\n",
        "from google.colab import drive # drive is imported from google.colab\n",
        "drive.mount('/content/gdrive') # Google Colab is connected to personal Google Drive\n",
        "root_path = 'gdrive/My Drive/GIS/' # The root path is set to GIS folder in Google Drive containing data"
      ],
      "execution_count": 3,
      "outputs": [
        {
          "output_type": "stream",
          "text": [
            "Mounted at /content/gdrive\n"
          ],
          "name": "stdout"
        }
      ]
    },
    {
      "cell_type": "code",
      "metadata": {
        "id": "aoAIpTnyPyTu"
      },
      "source": [
        "# Planned_Unit_Development__PUDs_.shp, Affordable_Housing.csv, and zoning_crosswalk.csv are assigned to variables\n",
        "puds = gpd.read_file(root_path+'Input/Planned_Unit_Development__PUDs_.shp', crs = {'init' :'epsg:4326'}) # puds.shp is read as a geodataframe using an initial coordinate system, epsg:4326\n",
        "aff = pd.read_csv(root_path+'Input/Affordable_Housing.csv') # Affordable housing table is read and assigned to variable, aff\n",
        "crosswalk = pd.read_csv(root_path+'Input/zoning_crosswalk.csv') # Zoning crosswalk table is read and assigned to variable, crosswalk"
      ],
      "execution_count": 4,
      "outputs": []
    },
    {
      "cell_type": "code",
      "metadata": {
        "id": "fdoOh1ADQ_Ky",
        "outputId": "465a9a1d-4913-424f-c5d0-5eecba1fd03f",
        "colab": {
          "base_uri": "https://localhost:8080/",
          "height": 173
        }
      },
      "source": [
        "# Incremental development:  These lines use .sample and .info methods to display information from pud shapefile, aff table, and crosswalk table.\n",
        "# puds.sample(3)\n",
        "# aff.info()\n",
        "# crosswalk.info()"
      ],
      "execution_count": 20,
      "outputs": [
        {
          "output_type": "execute_result",
          "data": {
            "text/html": [
              "<div>\n",
              "<style scoped>\n",
              "    .dataframe tbody tr th:only-of-type {\n",
              "        vertical-align: middle;\n",
              "    }\n",
              "\n",
              "    .dataframe tbody tr th {\n",
              "        vertical-align: top;\n",
              "    }\n",
              "\n",
              "    .dataframe thead th {\n",
              "        text-align: right;\n",
              "    }\n",
              "</style>\n",
              "<table border=\"1\" class=\"dataframe\">\n",
              "  <thead>\n",
              "    <tr style=\"text-align: right;\">\n",
              "      <th></th>\n",
              "      <th>Zone</th>\n",
              "      <th>Count</th>\n",
              "      <th>Zone_Cat</th>\n",
              "    </tr>\n",
              "  </thead>\n",
              "  <tbody>\n",
              "    <tr>\n",
              "      <th>50</th>\n",
              "      <td>R-5-E</td>\n",
              "      <td>1</td>\n",
              "      <td>Residential</td>\n",
              "    </tr>\n",
              "    <tr>\n",
              "      <th>7</th>\n",
              "      <td>C-3-A, CR</td>\n",
              "      <td>10</td>\n",
              "      <td>Commercial</td>\n",
              "    </tr>\n",
              "    <tr>\n",
              "      <th>5</th>\n",
              "      <td>R-5-A</td>\n",
              "      <td>13</td>\n",
              "      <td>Residential</td>\n",
              "    </tr>\n",
              "    <tr>\n",
              "      <th>19</th>\n",
              "      <td>C-2-C</td>\n",
              "      <td>3</td>\n",
              "      <td>Commercial</td>\n",
              "    </tr>\n",
              "  </tbody>\n",
              "</table>\n",
              "</div>"
            ],
            "text/plain": [
              "         Zone  Count     Zone_Cat\n",
              "50      R-5-E      1  Residential\n",
              "7   C-3-A, CR     10   Commercial\n",
              "5       R-5-A     13  Residential\n",
              "19      C-2-C      3   Commercial"
            ]
          },
          "metadata": {
            "tags": []
          },
          "execution_count": 20
        }
      ]
    },
    {
      "cell_type": "code",
      "metadata": {
        "id": "RDWwN9r6RZOa",
        "outputId": "227c8b78-6246-45e6-8545-2f1baa153d64",
        "colab": {
          "base_uri": "https://localhost:8080/"
        }
      },
      "source": [
        "# Geometry field is added to aff table and converted to geodataframe\n",
        "aff['geometry'] = aff.apply(lambda row: Point(row.X, row.Y), axis=1) # A geometry column is added to the aff table indicating 'Point' geometry type and x and y rows\n",
        "aff = gpd.GeoDataFrame(aff, crs={'init' :'epsg:4326'}) # aff table is assigned to a geodataframe with initial coordinate system epsg:4326"
      ],
      "execution_count": 7,
      "outputs": [
        {
          "output_type": "stream",
          "text": [
            "/usr/local/lib/python3.6/dist-packages/pyproj/crs/crs.py:53: FutureWarning: '+init=<authority>:<code>' syntax is deprecated. '<authority>:<code>' is the preferred initialization method. When making the change, be mindful of axis order changes: https://pyproj4.github.io/pyproj/stable/gotchas.html#axis-order-changes-in-proj-6\n",
            "  return _prepare_from_string(\" \".join(pjargs))\n"
          ],
          "name": "stderr"
        }
      ]
    },
    {
      "cell_type": "code",
      "metadata": {
        "id": "p8H8-BPwRpNM",
        "outputId": "a7bb51c3-6ea5-44e7-b944-92f8c458f163",
        "colab": {
          "base_uri": "https://localhost:8080/",
          "height": 185
        }
      },
      "source": [
        "# Incremental development:  aff geodataframe is sampled to check for new geometry column\n",
        "# aff.sample(1)"
      ],
      "execution_count": 15,
      "outputs": [
        {
          "output_type": "execute_result",
          "data": {
            "text/html": [
              "<div>\n",
              "<style scoped>\n",
              "    .dataframe tbody tr th:only-of-type {\n",
              "        vertical-align: middle;\n",
              "    }\n",
              "\n",
              "    .dataframe tbody tr th {\n",
              "        vertical-align: top;\n",
              "    }\n",
              "\n",
              "    .dataframe thead th {\n",
              "        text-align: right;\n",
              "    }\n",
              "</style>\n",
              "<table border=\"1\" class=\"dataframe\">\n",
              "  <thead>\n",
              "    <tr style=\"text-align: right;\">\n",
              "      <th></th>\n",
              "      <th>X</th>\n",
              "      <th>Y</th>\n",
              "      <th>OBJECTID</th>\n",
              "      <th>MAR_WARD</th>\n",
              "      <th>ADDRESS</th>\n",
              "      <th>PROJECT_NAME</th>\n",
              "      <th>STATUS_PUBLIC</th>\n",
              "      <th>AGENCY_CALCULATED</th>\n",
              "      <th>TOTAL_AFFORDABLE_UNITS</th>\n",
              "      <th>LATITUDE</th>\n",
              "      <th>LONGITUDE</th>\n",
              "      <th>AFFORDABLE_UNITS_AT_0_30_AMI</th>\n",
              "      <th>AFFORDABLE_UNITS_AT_31_50_AMI</th>\n",
              "      <th>AFFORDABLE_UNITS_AT_51_60_AMI</th>\n",
              "      <th>AFFORDABLE_UNITS_AT_61_80_AMI</th>\n",
              "      <th>AFFORDABLE_UNITS_AT_81_AMI</th>\n",
              "      <th>CASE_ID</th>\n",
              "      <th>ADDRESS_ID</th>\n",
              "      <th>XCOORD</th>\n",
              "      <th>YCOORD</th>\n",
              "      <th>FULLADDRESS</th>\n",
              "      <th>GIS_LAST_MOD_DTTM</th>\n",
              "      <th>geometry</th>\n",
              "    </tr>\n",
              "  </thead>\n",
              "  <tbody>\n",
              "    <tr>\n",
              "      <th>382</th>\n",
              "      <td>-77.025937</td>\n",
              "      <td>38.938431</td>\n",
              "      <td>1549</td>\n",
              "      <td>Ward 4</td>\n",
              "      <td>930 Randolph Street Northwest, Washington, Dis...</td>\n",
              "      <td>Petworth Station Feb 2018</td>\n",
              "      <td>Under Construction</td>\n",
              "      <td>DHCD</td>\n",
              "      <td>84</td>\n",
              "      <td>38.938423</td>\n",
              "      <td>-77.025935</td>\n",
              "      <td>0</td>\n",
              "      <td>10</td>\n",
              "      <td>74</td>\n",
              "      <td>0</td>\n",
              "      <td>0</td>\n",
              "      <td>NaN</td>\n",
              "      <td>225073.0</td>\n",
              "      <td>397751.51</td>\n",
              "      <td>141170.91</td>\n",
              "      <td>930 RANDOLPH STREET NW</td>\n",
              "      <td>2020/11/02 04:00:31+00</td>\n",
              "      <td>POINT (-77.02594 38.93843)</td>\n",
              "    </tr>\n",
              "  </tbody>\n",
              "</table>\n",
              "</div>"
            ],
            "text/plain": [
              "             X          Y  ...       GIS_LAST_MOD_DTTM                    geometry\n",
              "382 -77.025937  38.938431  ...  2020/11/02 04:00:31+00  POINT (-77.02594 38.93843)\n",
              "\n",
              "[1 rows x 23 columns]"
            ]
          },
          "metadata": {
            "tags": []
          },
          "execution_count": 15
        }
      ]
    },
    {
      "cell_type": "code",
      "metadata": {
        "id": "uJ7ZhMeQR8Tl",
        "outputId": "ee8a26f8-3f96-4a59-d844-14e6386d3718",
        "colab": {
          "base_uri": "https://localhost:8080/"
        }
      },
      "source": [
        "# puds and aff geodataframes are joined based on a geographic intersection operator and assigned to puds_aff variable\n",
        "puds_aff = gpd.sjoin(puds, aff, op='intersects', how='left')"
      ],
      "execution_count": 16,
      "outputs": [
        {
          "output_type": "stream",
          "text": [
            "/usr/local/lib/python3.6/dist-packages/ipykernel_launcher.py:2: UserWarning: CRS mismatch between the CRS of left geometries and the CRS of right geometries.\n",
            "Use `to_crs()` to reproject one of the input geometries to match the CRS of the other.\n",
            "\n",
            "Left CRS: EPSG:4326\n",
            "Right CRS: +init=epsg:4326 +type=crs\n",
            "\n",
            "  \n"
          ],
          "name": "stderr"
        }
      ]
    },
    {
      "cell_type": "code",
      "metadata": {
        "id": "3s_z6HgsSERf",
        "outputId": "cd160aa0-f087-40e2-912f-d07849d02ad4",
        "colab": {
          "base_uri": "https://localhost:8080/"
        }
      },
      "source": [
        "# Incremental development:  Spatial join is confirmed by displaying puds_aff variable information\n",
        "# puds_aff.info()"
      ],
      "execution_count": 17,
      "outputs": [
        {
          "output_type": "stream",
          "text": [
            "<class 'geopandas.geodataframe.GeoDataFrame'>\n",
            "Int64Index: 305 entries, 0 to 297\n",
            "Data columns (total 35 columns):\n",
            " #   Column                         Non-Null Count  Dtype   \n",
            "---  ------                         --------------  -----   \n",
            " 0   OBJECTID_left                  305 non-null    int64   \n",
            " 1   PUD_NAME                       305 non-null    object  \n",
            " 2   PUD_WEB_UR                     305 non-null    object  \n",
            " 3   PUD_CHANGE                     303 non-null    object  \n",
            " 4   PUD_ZONING                     305 non-null    object  \n",
            " 5   PUD_STATUS                     305 non-null    object  \n",
            " 6   PUD_CASE_N                     305 non-null    object  \n",
            " 7   GLOBALID                       305 non-null    object  \n",
            " 8   WARD                           305 non-null    object  \n",
            " 9   SHAPEAREA                      305 non-null    int64   \n",
            " 10  SHAPELEN                       305 non-null    int64   \n",
            " 11  geometry                       305 non-null    geometry\n",
            " 12  index_right                    78 non-null     float64 \n",
            " 13  X                              78 non-null     float64 \n",
            " 14  Y                              78 non-null     float64 \n",
            " 15  OBJECTID_right                 78 non-null     float64 \n",
            " 16  MAR_WARD                       78 non-null     object  \n",
            " 17  ADDRESS                        78 non-null     object  \n",
            " 18  PROJECT_NAME                   78 non-null     object  \n",
            " 19  STATUS_PUBLIC                  78 non-null     object  \n",
            " 20  AGENCY_CALCULATED              78 non-null     object  \n",
            " 21  TOTAL_AFFORDABLE_UNITS         78 non-null     float64 \n",
            " 22  LATITUDE                       78 non-null     float64 \n",
            " 23  LONGITUDE                      78 non-null     float64 \n",
            " 24  AFFORDABLE_UNITS_AT_0_30_AMI   78 non-null     float64 \n",
            " 25  AFFORDABLE_UNITS_AT_31_50_AMI  78 non-null     float64 \n",
            " 26  AFFORDABLE_UNITS_AT_51_60_AMI  78 non-null     float64 \n",
            " 27  AFFORDABLE_UNITS_AT_61_80_AMI  78 non-null     float64 \n",
            " 28  AFFORDABLE_UNITS_AT_81_AMI     78 non-null     float64 \n",
            " 29  CASE_ID                        64 non-null     object  \n",
            " 30  ADDRESS_ID                     67 non-null     float64 \n",
            " 31  XCOORD                         78 non-null     float64 \n",
            " 32  YCOORD                         78 non-null     float64 \n",
            " 33  FULLADDRESS                    67 non-null     object  \n",
            " 34  GIS_LAST_MOD_DTTM              78 non-null     object  \n",
            "dtypes: float64(15), geometry(1), int64(3), object(16)\n",
            "memory usage: 85.8+ KB\n"
          ],
          "name": "stdout"
        }
      ]
    },
    {
      "cell_type": "code",
      "metadata": {
        "id": "SM4LaULhSxea"
      },
      "source": [
        "# The puds_aff dataframe is merged with the Zoning crosswalk table to define the zoning catagories and assigned to puds_info variable\n",
        "puds_info = puds_aff.merge(crosswalk[['Zone_Cat']], how='left', left_on='PUD_ZONING', right_on=crosswalk['Zone'])"
      ],
      "execution_count": 21,
      "outputs": []
    },
    {
      "cell_type": "code",
      "metadata": {
        "id": "Bpeyn2EtS7dZ",
        "outputId": "08dc2029-b5eb-489d-e99e-bc48384793c3",
        "colab": {
          "base_uri": "https://localhost:8080/"
        }
      },
      "source": [
        "# Print statements displaying the total number of PUDs and the total number of PUDs with affordable housing\n",
        "\n",
        "print(f\"Total count of PUDs: {puds_info.shape[0]}\")\n",
        "print(f\"Count PUDs offering Affordable Housing: {puds_info.loc[~puds_info.PROJECT_NAME.isna()].shape[0]}\")"
      ],
      "execution_count": 24,
      "outputs": [
        {
          "output_type": "stream",
          "text": [
            "Total count of PUDs: 305\n",
            "Count PUDs offering Affordable Housing: 78\n"
          ],
          "name": "stdout"
        }
      ]
    },
    {
      "cell_type": "code",
      "metadata": {
        "id": "1E_j3YVHTIMx",
        "outputId": "8b1874d4-6a1a-4ce6-fc1c-3bfc465654db",
        "colab": {
          "base_uri": "https://localhost:8080/",
          "height": 483
        }
      },
      "source": [
        "# All PUDs are mapped by zoning category\n",
        "puds_info.plot(column='Zone_Cat', legend=True, figsize=(16,8));"
      ],
      "execution_count": null,
      "outputs": [
        {
          "output_type": "display_data",
          "data": {
            "image/png": "[encoded data removed]",
            "text/plain": [
              "<Figure size 1152x576 with 1 Axes>"
            ]
          },
          "metadata": {
            "tags": [],
            "needs_background": "light"
          }
        }
      ]
    },
    {
      "cell_type": "code",
      "metadata": {
        "id": "Plt2CXIBTPmd",
        "outputId": "6be478cb-0f54-4cbf-d714-f862a3446f60",
        "colab": {
          "base_uri": "https://localhost:8080/",
          "height": 517
        }
      },
      "source": [
        "# All PUDs that offer affordable housing are mapped\n",
        "puds_info[puds_info['TOTAL_AFFORDABLE_UNITS']>0].plot(column='TOTAL_AFFORDABLE_UNITS', color='grey', figsize=(16,8));"
      ],
      "execution_count": null,
      "outputs": [
        {
          "output_type": "stream",
          "text": [
            "/usr/local/lib/python3.6/dist-packages/geopandas/plotting.py:573: UserWarning: Only specify one of 'column' or 'color'. Using 'color'.\n",
            "  \"Only specify one of 'column' or 'color'. Using 'color'.\", UserWarning\n"
          ],
          "name": "stderr"
        },
        {
          "output_type": "display_data",
          "data": {
            "image/png": "[encoded data removed]",
            "text/plain": [
              "<Figure size 1152x576 with 1 Axes>"
            ]
          },
          "metadata": {
            "tags": [],
            "needs_background": "light"
          }
        }
      ]
    },
    {
      "cell_type": "code",
      "metadata": {
        "id": "sl8o5JHfTaEk"
      },
      "source": [
        "# Export puds_info geodataframe as shapefile within Colab environment\n",
        "puds_info.to_file('puds_info.shp')\n",
        "\n",
        "# Copy pud_info shapefile components from Colab environment to Google Drive using bash script\n",
        "!cp puds_info.cpg 'gdrive/My Drive/GIS/Output'\n",
        "!cp puds_info.dbf 'gdrive/My Drive/GIS/Output'\n",
        "!cp puds_info.prj 'gdrive/My Drive/GIS/Output'\n",
        "!cp puds_info.shp 'gdrive/My Drive/GIS/Output'\n",
        "!cp puds_info.shx 'gdrive/My Drive/GIS/Output'"
      ],
      "execution_count": null,
      "outputs": []
    }
  ]
}